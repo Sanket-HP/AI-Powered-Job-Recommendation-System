{
 "cells": [
  {
   "cell_type": "code",
   "execution_count": 1,
   "id": "6597ccdb-535d-4335-bb49-07e4d86441b4",
   "metadata": {
    "tags": []
   },
   "outputs": [
    {
     "name": "stdout",
     "output_type": "stream",
     "text": [
      "Requirement already satisfied: pandas in /opt/conda/envs/sagemaker-distribution/lib/python3.10/site-packages (2.1.4)\n",
      "Requirement already satisfied: scikit-learn in /opt/conda/envs/sagemaker-distribution/lib/python3.10/site-packages (1.4.2)\n",
      "Requirement already satisfied: numpy in /opt/conda/envs/sagemaker-distribution/lib/python3.10/site-packages (1.26.4)\n",
      "Requirement already satisfied: flask in /opt/conda/envs/sagemaker-distribution/lib/python3.10/site-packages (3.0.3)\n",
      "Requirement already satisfied: requests in /opt/conda/envs/sagemaker-distribution/lib/python3.10/site-packages (2.31.0)\n",
      "Requirement already satisfied: beautifulsoup4 in /opt/conda/envs/sagemaker-distribution/lib/python3.10/site-packages (4.12.3)\n",
      "Requirement already satisfied: python-dateutil>=2.8.2 in /opt/conda/envs/sagemaker-distribution/lib/python3.10/site-packages (from pandas) (2.9.0)\n",
      "Requirement already satisfied: pytz>=2020.1 in /opt/conda/envs/sagemaker-distribution/lib/python3.10/site-packages (from pandas) (2023.3)\n",
      "Requirement already satisfied: tzdata>=2022.1 in /opt/conda/envs/sagemaker-distribution/lib/python3.10/site-packages (from pandas) (2024.1)\n",
      "Requirement already satisfied: scipy>=1.6.0 in /opt/conda/envs/sagemaker-distribution/lib/python3.10/site-packages (from scikit-learn) (1.11.4)\n",
      "Requirement already satisfied: joblib>=1.2.0 in /opt/conda/envs/sagemaker-distribution/lib/python3.10/site-packages (from scikit-learn) (1.4.2)\n",
      "Requirement already satisfied: threadpoolctl>=2.0.0 in /opt/conda/envs/sagemaker-distribution/lib/python3.10/site-packages (from scikit-learn) (3.5.0)\n",
      "Requirement already satisfied: Werkzeug>=3.0.0 in /opt/conda/envs/sagemaker-distribution/lib/python3.10/site-packages (from flask) (3.0.3)\n",
      "Requirement already satisfied: Jinja2>=3.1.2 in /opt/conda/envs/sagemaker-distribution/lib/python3.10/site-packages (from flask) (3.1.4)\n",
      "Requirement already satisfied: itsdangerous>=2.1.2 in /opt/conda/envs/sagemaker-distribution/lib/python3.10/site-packages (from flask) (2.2.0)\n",
      "Requirement already satisfied: click>=8.1.3 in /opt/conda/envs/sagemaker-distribution/lib/python3.10/site-packages (from flask) (8.1.7)\n",
      "Requirement already satisfied: blinker>=1.6.2 in /opt/conda/envs/sagemaker-distribution/lib/python3.10/site-packages (from flask) (1.8.2)\n",
      "Requirement already satisfied: charset-normalizer<4,>=2 in /opt/conda/envs/sagemaker-distribution/lib/python3.10/site-packages (from requests) (3.3.2)\n",
      "Requirement already satisfied: idna<4,>=2.5 in /opt/conda/envs/sagemaker-distribution/lib/python3.10/site-packages (from requests) (3.7)\n",
      "Requirement already satisfied: urllib3<3,>=1.21.1 in /opt/conda/envs/sagemaker-distribution/lib/python3.10/site-packages (from requests) (1.26.18)\n",
      "Requirement already satisfied: certifi>=2017.4.17 in /opt/conda/envs/sagemaker-distribution/lib/python3.10/site-packages (from requests) (2024.2.2)\n",
      "Requirement already satisfied: soupsieve>1.2 in /opt/conda/envs/sagemaker-distribution/lib/python3.10/site-packages (from beautifulsoup4) (2.5)\n",
      "Requirement already satisfied: MarkupSafe>=2.0 in /opt/conda/envs/sagemaker-distribution/lib/python3.10/site-packages (from Jinja2>=3.1.2->flask) (2.1.5)\n",
      "Requirement already satisfied: six>=1.5 in /opt/conda/envs/sagemaker-distribution/lib/python3.10/site-packages (from python-dateutil>=2.8.2->pandas) (1.16.0)\n"
     ]
    }
   ],
   "source": [
    "# Install required libraries\n",
    "!pip install pandas scikit-learn numpy flask requests beautifulsoup4"
   ]
  },
  {
   "cell_type": "code",
   "execution_count": 2,
   "id": "f19bb6b2-f46b-4208-a778-384779a0053f",
   "metadata": {
    "tags": []
   },
   "outputs": [],
   "source": [
    "# Import libraries\n",
    "import pandas as pd\n",
    "import numpy as np\n",
    "from sklearn.feature_extraction.text import TfidfVectorizer\n",
    "from sklearn.metrics.pairwise import cosine_similarity"
   ]
  },
  {
   "cell_type": "code",
   "execution_count": 3,
   "id": "c4cca6af-2688-4d71-8570-1d16d53e425f",
   "metadata": {
    "tags": []
   },
   "outputs": [],
   "source": [
    "# Function to gather user input\n",
    "def get_user_profile():\n",
    "    print(\"Please enter your details for job recommendations:\")\n",
    "    name = input(\"Enter your name: \")\n",
    "    skills = input(\"Enter your skills (comma-separated): \")\n",
    "    experience = input(\"Enter your years of experience: \")\n",
    "    location = input(\"Enter your preferred job location: \")\n",
    "    job_type = input(\"Enter your preferred job type (e.g., Full-time, Part-time): \")\n",
    "    \n",
    "    user_profile = {\n",
    "        'name': name,\n",
    "        'skills': [skill.strip() for skill in skills.split(',')],\n",
    "        'experience': experience,\n",
    "        'location': location,\n",
    "        'job_type': job_type\n",
    "    }\n",
    "    return user_profile"
   ]
  },
  {
   "cell_type": "code",
   "execution_count": 4,
   "id": "96074cb1-6e98-40d4-b902-c9483ed3ff70",
   "metadata": {
    "tags": []
   },
   "outputs": [],
   "source": [
    "# Create a sample dataset of job listings\n",
    "job_data = [\n",
    "    {'job_title': 'Software Engineer', 'description': 'Looking for a software engineer with Python and JavaScript skills.', 'location': 'Remote', 'type': 'Full-time'},\n",
    "    {'job_title': 'Data Scientist', 'description': 'Seeking a data scientist with experience in machine learning and data analysis.', 'location': 'New York', 'type': 'Full-time'},\n",
    "    {'job_title': 'Web Developer', 'description': 'Web developer needed with HTML, CSS, and JavaScript experience.', 'location': 'San Francisco', 'type': 'Part-time'},\n",
    "    # Add more job listings as needed\n",
    "]\n",
    "\n",
    "job_df = pd.DataFrame(job_data)"
   ]
  },
  {
   "cell_type": "code",
   "execution_count": 5,
   "id": "d730fb4a-70f6-49fd-bf40-e8f071a838d8",
   "metadata": {
    "tags": []
   },
   "outputs": [],
   "source": [
    "# Function to recommend jobs based on user profile\n",
    "def recommend_jobs(user_profile, job_df):\n",
    "    # Combine user skills into a single string for vectorization\n",
    "    user_skills = ' '.join(user_profile['skills'])\n",
    "    \n",
    "    # Initialize TF-IDF Vectorizer\n",
    "    vectorizer = TfidfVectorizer()\n",
    "    \n",
    "    # Create a corpus that includes user skills and job descriptions\n",
    "    corpus = job_df['description'].tolist() + [user_skills]\n",
    "    \n",
    "    # Fit and transform the corpus\n",
    "    tfidf_matrix = vectorizer.fit_transform(corpus)\n",
    "    \n",
    "    # Calculate cosine similarity\n",
    "    cosine_sim = cosine_similarity(tfidf_matrix[-1], tfidf_matrix[:-1])\n",
    "    \n",
    "    # Get the top job recommendations\n",
    "    recommended_indices = np.argsort(cosine_sim[0])[::-1]\n",
    "    \n",
    "    recommendations = job_df.iloc[recommended_indices]\n",
    "    return recommendations"
   ]
  },
  {
   "cell_type": "code",
   "execution_count": 6,
   "id": "94ff32c8-619d-4687-aa7e-f6f99adc396f",
   "metadata": {
    "tags": []
   },
   "outputs": [
    {
     "name": "stdout",
     "output_type": "stream",
     "text": [
      "Please enter your details for job recommendations:\n"
     ]
    },
    {
     "name": "stdin",
     "output_type": "stream",
     "text": [
      "Enter your name:  Sanket Sarjerao Patil\n",
      "Enter your skills (comma-separated):  Python, R, SQL, Data Science, Cloud Computing, Google CLoud Platform, Amazon Web Services\n",
      "Enter your years of experience:  1\n",
      "Enter your preferred job location:  Bengaluru\n",
      "Enter your preferred job type (e.g., Full-time, Part-time):  Full-time\n"
     ]
    },
    {
     "name": "stdout",
     "output_type": "stream",
     "text": [
      "\n",
      "Job Recommendations:\n",
      "Data Scientist - Seeking a data scientist with experience in machine learning and data analysis. (Location: New York, Type: Full-time)\n",
      "Web Developer - Web developer needed with HTML, CSS, and JavaScript experience. (Location: San Francisco, Type: Part-time)\n",
      "Software Engineer - Looking for a software engineer with Python and JavaScript skills. (Location: Remote, Type: Full-time)\n"
     ]
    }
   ],
   "source": [
    "# Main execution\n",
    "if __name__ == \"__main__\":\n",
    "    user_profile = get_user_profile()\n",
    "    recommendations = recommend_jobs(user_profile, job_df)\n",
    "    \n",
    "    print(\"\\nJob Recommendations:\")\n",
    "    for index, row in recommendations.iterrows():\n",
    "        print(f\"{row['job_title']} - {row['description']} (Location: {row['location']}, Type: {row['type']})\")"
   ]
  },
  {
   "cell_type": "code",
   "execution_count": null,
   "id": "145971df-02d1-49e8-90f9-6ebb3370a3fe",
   "metadata": {},
   "outputs": [],
   "source": []
  }
 ],
 "metadata": {
  "kernelspec": {
   "display_name": "sagemaker-distribution:Python",
   "language": "python",
   "name": "conda-env-sagemaker-distribution-py"
  },
  "language_info": {
   "codemirror_mode": {
    "name": "ipython",
    "version": 3
   },
   "file_extension": ".py",
   "mimetype": "text/x-python",
   "name": "python",
   "nbconvert_exporter": "python",
   "pygments_lexer": "ipython3",
   "version": "3.10.14"
  }
 },
 "nbformat": 4,
 "nbformat_minor": 5
}
